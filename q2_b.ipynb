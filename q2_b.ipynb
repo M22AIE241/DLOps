{
 "cells": [
  {
   "cell_type": "code",
   "execution_count": 1,
   "metadata": {},
   "outputs": [
    {
     "name": "stdout",
     "output_type": "stream",
     "text": [
      "ReLU:\n",
      "[0.0, 0.0, 0, 2.8, 0.0, 1.5, 0.0, 3.2, 0.0, 4.6]\n",
      "Leaky ReLU:\n",
      "[array(-0.035), array(-0.012), array(0.), array(2.8), array(-0.041), array(1.5), array(-0.007), array(3.2), array(-0.024), array(4.6)]\n",
      "Tanh:\n",
      "[-0.9981778976111987, -0.8336546070121552, 0.0, 0.992631520201128, -0.9994508436877974, 0.9051482536448665, -0.6043677771171634, 0.9966823978396512, -0.9836748576936802, 0.9997979416121844]\n"
     ]
    }
   ],
   "source": [
    "import numpy as np\n",
    "\n",
    "def relu(x):\n",
    "    return np.maximum(0, x)\n",
    "\n",
    "def leaky_relu(x, alpha=0.01):\n",
    "    return np.where(x > 0, x, alpha * x)\n",
    "\n",
    "def tanh(x):\n",
    "    return np.tanh(x)\n",
    "\n",
    "random_values = [-3.5, -1.2, 0, 2.8, -4.1, 1.5, -0.7, 3.2, -2.4, 4.6]\n",
    "\n",
    "print(\"ReLU:\")\n",
    "print([relu(val) for val in random_values])\n",
    "\n",
    "print(\"Leaky ReLU:\")\n",
    "print([leaky_relu(val) for val in random_values])\n",
    "\n",
    "print(\"Tanh:\")\n",
    "print([tanh(val) for val in random_values])\n"
   ]
  },
  {
   "cell_type": "code",
   "execution_count": null,
   "metadata": {},
   "outputs": [],
   "source": []
  }
 ],
 "metadata": {
  "kernelspec": {
   "display_name": "Python 3",
   "language": "python",
   "name": "python3"
  },
  "language_info": {
   "codemirror_mode": {
    "name": "ipython",
    "version": 3
   },
   "file_extension": ".py",
   "mimetype": "text/x-python",
   "name": "python",
   "nbconvert_exporter": "python",
   "pygments_lexer": "ipython3",
   "version": "3.12.0"
  }
 },
 "nbformat": 4,
 "nbformat_minor": 2
}
