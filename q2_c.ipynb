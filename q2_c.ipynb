{
 "cells": [
  {
   "cell_type": "code",
   "execution_count": 1,
   "metadata": {},
   "outputs": [
    {
     "name": "stdout",
     "output_type": "stream",
     "text": [
      "Sigmoid(-3.5) = 0.02931223075135632\n",
      "Sigmoid(-1.2) = 0.23147521650098238\n",
      "Sigmoid(0) = 0.5\n",
      "Sigmoid(2.8) = 0.9426758241011313\n",
      "Sigmoid(-4.1) = 0.016302499371440946\n",
      "Sigmoid(1.5) = 0.8175744761936437\n",
      "Sigmoid(-0.7) = 0.3318122278318339\n",
      "Sigmoid(3.2) = 0.9608342772032357\n",
      "Sigmoid(-2.4) = 0.08317269649392238\n",
      "Sigmoid(4.6) = 0.9900481981330957\n"
     ]
    }
   ],
   "source": [
    "import numpy as np\n",
    "\n",
    "def sigmoid(x):\n",
    "    return 1 / (1 + np.exp(-x))\n",
    "\n",
    "random_values = [-3.5, -1.2, 0, 2.8, -4.1, 1.5, -0.7, 3.2, -2.4, 4.6]\n",
    "\n",
    "for val in random_values:\n",
    "    print(f\"Sigmoid({val}) = {sigmoid(val)}\")\n"
   ]
  },
  {
   "cell_type": "code",
   "execution_count": null,
   "metadata": {},
   "outputs": [],
   "source": []
  }
 ],
 "metadata": {
  "kernelspec": {
   "display_name": "Python 3",
   "language": "python",
   "name": "python3"
  },
  "language_info": {
   "codemirror_mode": {
    "name": "ipython",
    "version": 3
   },
   "file_extension": ".py",
   "mimetype": "text/x-python",
   "name": "python",
   "nbconvert_exporter": "python",
   "pygments_lexer": "ipython3",
   "version": "3.12.0"
  }
 },
 "nbformat": 4,
 "nbformat_minor": 2
}
